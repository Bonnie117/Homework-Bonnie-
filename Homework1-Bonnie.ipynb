{
 "cells": [
  {
   "cell_type": "markdown",
   "metadata": {},
   "source": [
    "### 题目1：输出所有由四个数字：1、2、3、5组成的数组？"
   ]
  },
  {
   "cell_type": "code",
   "execution_count": 8,
   "metadata": {},
   "outputs": [
    {
     "name": "stdout",
     "output_type": "stream",
     "text": [
      "1 2 3 5\n",
      "1 2 5 3\n",
      "1 3 2 5\n",
      "1 3 5 2\n",
      "1 5 2 3\n",
      "1 5 3 2\n",
      "2 1 3 5\n",
      "2 1 5 3\n",
      "2 3 1 5\n",
      "2 3 5 1\n",
      "2 5 1 3\n",
      "2 5 3 1\n",
      "3 1 2 5\n",
      "3 1 5 2\n",
      "3 2 1 5\n",
      "3 2 5 1\n",
      "3 5 1 2\n",
      "3 5 2 1\n",
      "5 1 2 3\n",
      "5 1 3 2\n",
      "5 2 1 3\n",
      "5 2 3 1\n",
      "5 3 1 2\n",
      "5 3 2 1\n"
     ]
    }
   ],
   "source": [
    "for i in range(1,6):\n",
    "    for j in range(1,6):\n",
    "        for k in range(1,6):\n",
    "            for l in range(1,6):\n",
    "                if( i != k ) and (i != j) and (j != k) and (j!=l)and (i!=l)and (k!=l)and (i!=4) and (j!=4) and (k!=4) and (l!=4):\n",
    "                    print(i,j,k,l)"
   ]
  },
  {
   "cell_type": "markdown",
   "metadata": {},
   "source": [
    "### 题目2：生成斐波那契数列前20项的和"
   ]
  },
  {
   "cell_type": "code",
   "execution_count": 15,
   "metadata": {},
   "outputs": [
    {
     "name": "stdout",
     "output_type": "stream",
     "text": [
      "17710\n"
     ]
    }
   ],
   "source": [
    "def fib(n):\n",
    "    if n == 1:\n",
    "        return [1]\n",
    "    if n == 2:\n",
    "        return [1, 1]\n",
    "    fibs = [1, 1]\n",
    "    for i in range(2, n):\n",
    "        fibs.append(fibs[-1] + fibs[-2])\n",
    "    return fibs\n",
    "print(sum(fib(20)))"
   ]
  },
  {
   "cell_type": "markdown",
   "metadata": {},
   "source": [
    "### 题目三：输出200以内,各个数位只和为偶数的素数"
   ]
  },
  {
   "cell_type": "code",
   "execution_count": 46,
   "metadata": {},
   "outputs": [
    {
     "name": "stdout",
     "output_type": "stream",
     "text": [
      "2\n",
      "4\n",
      "6\n",
      "8\n",
      "11\n",
      "13\n",
      "15\n",
      "17\n",
      "19\n",
      "20\n",
      "22\n",
      "24\n",
      "26\n",
      "28\n",
      "31\n",
      "33\n",
      "35\n",
      "37\n",
      "39\n",
      "40\n",
      "42\n",
      "44\n",
      "46\n",
      "48\n",
      "51\n",
      "53\n",
      "55\n",
      "57\n",
      "59\n",
      "60\n",
      "62\n",
      "64\n",
      "66\n",
      "68\n",
      "71\n",
      "73\n",
      "75\n",
      "77\n",
      "79\n",
      "80\n",
      "82\n",
      "84\n",
      "86\n",
      "88\n",
      "91\n",
      "93\n",
      "95\n",
      "97\n",
      "99\n",
      "101\n",
      "103\n",
      "105\n",
      "107\n",
      "109\n",
      "110\n",
      "112\n",
      "114\n",
      "116\n",
      "118\n",
      "121\n",
      "123\n",
      "125\n",
      "127\n",
      "129\n",
      "130\n",
      "132\n",
      "134\n",
      "136\n",
      "138\n",
      "141\n",
      "143\n",
      "145\n",
      "147\n",
      "149\n",
      "150\n",
      "152\n",
      "154\n",
      "156\n",
      "158\n",
      "161\n",
      "163\n",
      "165\n",
      "167\n",
      "169\n",
      "170\n",
      "172\n",
      "174\n",
      "176\n",
      "178\n",
      "181\n",
      "183\n",
      "185\n",
      "187\n",
      "189\n",
      "190\n",
      "192\n",
      "194\n",
      "196\n",
      "198\n"
     ]
    }
   ],
   "source": [
    "def Sushu(n):\n",
    "    for i in range(2,n):\n",
    "        if n%i==0:\n",
    "            return 0\n",
    "    return 1\n",
    "def OuShu(n):\n",
    "    if (n//100+n//10+n//1)%2==0:\n",
    "        return 1\n",
    "    return 0\n",
    "for i in range(2,200):\n",
    "    if OuShu(i) and OuShu(i):\n",
    "        print(i)"
   ]
  }
 ],
 "metadata": {
  "kernelspec": {
   "display_name": "Python 3",
   "language": "python",
   "name": "python3"
  },
  "language_info": {
   "codemirror_mode": {
    "name": "ipython",
    "version": 3
   },
   "file_extension": ".py",
   "mimetype": "text/x-python",
   "name": "python",
   "nbconvert_exporter": "python",
   "pygments_lexer": "ipython3",
   "version": "3.6.3"
  }
 },
 "nbformat": 4,
 "nbformat_minor": 2
}
